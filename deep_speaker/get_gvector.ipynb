{
 "cells": [
  {
   "cell_type": "code",
   "execution_count": 1,
   "metadata": {},
   "outputs": [],
   "source": [
    "import os\n",
    "os.environ['CUDA_VISIBLE_DEVICES'] = '0'"
   ]
  },
  {
   "cell_type": "code",
   "execution_count": 2,
   "metadata": {},
   "outputs": [
    {
     "name": "stdout",
     "output_type": "stream",
     "text": [
      "WARNING:tensorflow:From /home/server/workspace/tf_multispeaker/deep_speaker/resnet.py:43: The name tf.logging.warning is deprecated. Please use tf.compat.v1.logging.warning instead.\n",
      "\n",
      "WARNING:tensorflow:models/research/resnet is deprecated. Please use models/official/resnet instead.\n",
      "number gpu: 1\n",
      "\n"
     ]
    }
   ],
   "source": [
    "import tensorflow as tf\n",
    "import numpy as np\n",
    "import os, time\n",
    "import traceback\n",
    "from datetime import datetime\n",
    "from tqdm import tqdm\n",
    "from infolog import log\n",
    "from utils import ValueWindow\n",
    "\n",
    "from tensorflow.errors import OutOfRangeError\n",
    "from feeder_wav import Feeder\n",
    "from resnet import ResNet\n",
    "from vox12_hparams import train_feeder_hparams, dev_feeder_hparams, resnet_hparams, train_hparams"
   ]
  },
  {
   "cell_type": "code",
   "execution_count": 3,
   "metadata": {},
   "outputs": [
    {
     "name": "stdout",
     "output_type": "stream",
     "text": [
      "WARNING:tensorflow:From /home/server/workspace/tf_multispeaker/deep_speaker/resnet.py:67: The name tf.train.get_or_create_global_step is deprecated. Please use tf.compat.v1.train.get_or_create_global_step instead.\n",
      "\n",
      "WARNING:tensorflow:From /home/server/workspace/tf_multispeaker/deep_speaker/resnet.py:90: The name tf.train.replica_device_setter is deprecated. Please use tf.compat.v1.train.replica_device_setter instead.\n",
      "\n",
      "WARNING:tensorflow:From /home/server/workspace/tf_multispeaker/deep_speaker/resnet.py:398: The name tf.get_variable is deprecated. Please use tf.compat.v1.get_variable instead.\n",
      "\n",
      "WARNING:tensorflow:From /home/server/workspace/tf_multispeaker/deep_speaker/resnet.py:270: calling Constant.__init__ (from tensorflow.python.ops.init_ops) with dtype is deprecated and will be removed in a future version.\n",
      "Instructions for updating:\n",
      "Call initializer instance with the dtype argument instead of passing it to the constructor\n",
      "WARNING:tensorflow:From /home/server/workspace/tf_multispeaker/deep_speaker/resnet.py:346: The name tf.logging.debug is deprecated. Please use tf.compat.v1.logging.debug instead.\n",
      "\n",
      "WARNING:tensorflow:From /home/server/anaconda3/envs/MultiSpeakerTTS/lib/python3.6/site-packages/tensorflow_core/python/util/deprecation.py:507: UniformUnitScaling.__init__ (from tensorflow.python.ops.init_ops) is deprecated and will be removed in a future version.\n",
      "Instructions for updating:\n",
      "Use tf.initializers.variance_scaling instead with distribution=uniform to get equivalent behavior.\n",
      "WARNING:tensorflow:From /home/server/workspace/tf_multispeaker/deep_speaker/resnet.py:417: The name tf.nn.xw_plus_b is deprecated. Please use tf.compat.v1.nn.xw_plus_b instead.\n",
      "\n",
      "WARNING:tensorflow:From /home/server/workspace/tf_multispeaker/deep_speaker/resnet.py:163: calling dropout (from tensorflow.python.ops.nn_ops) with keep_prob is deprecated and will be removed in a future version.\n",
      "Instructions for updating:\n",
      "Please use `rate` instead of `keep_prob`. Rate should be set to `rate = 1 - keep_prob`.\n",
      "WARNING:tensorflow:From /home/server/workspace/tf_multispeaker/deep_speaker/resnet.py:387: The name tf.trainable_variables is deprecated. Please use tf.compat.v1.trainable_variables instead.\n",
      "\n",
      "WARNING:tensorflow:From /home/server/workspace/tf_multispeaker/deep_speaker/resnet.py:432: The name tf.train.exponential_decay is deprecated. Please use tf.compat.v1.train.exponential_decay instead.\n",
      "\n",
      "WARNING:tensorflow:From /home/server/workspace/tf_multispeaker/deep_speaker/resnet.py:205: The name tf.summary.scalar is deprecated. Please use tf.compat.v1.summary.scalar instead.\n",
      "\n",
      "WARNING:tensorflow:From /home/server/workspace/tf_multispeaker/deep_speaker/resnet.py:219: The name tf.train.MomentumOptimizer is deprecated. Please use tf.compat.v1.train.MomentumOptimizer instead.\n",
      "\n",
      "WARNING:tensorflow:From /home/server/workspace/tf_multispeaker/deep_speaker/resnet.py:226: The name tf.get_collection is deprecated. Please use tf.compat.v1.get_collection instead.\n",
      "\n",
      "WARNING:tensorflow:From /home/server/workspace/tf_multispeaker/deep_speaker/resnet.py:226: The name tf.GraphKeys is deprecated. Please use tf.compat.v1.GraphKeys instead.\n",
      "\n",
      "WARNING:tensorflow:From /home/server/workspace/tf_multispeaker/deep_speaker/resnet.py:73: The name tf.summary.merge_all is deprecated. Please use tf.compat.v1.summary.merge_all instead.\n",
      "\n",
      "INFO:tensorflow:Restoring parameters from vox12_resnet34/gvector.ckpt-300000\n"
     ]
    }
   ],
   "source": [
    "def create_model(fbanks, labels):\n",
    "    with tf.variable_scope('resnet', reuse=tf.AUTO_REUSE):\n",
    "        train_resnet = ResNet(resnet_hparams, fbanks, labels, 'train')\n",
    "        train_resnet.build_graph()\n",
    "    with tf.variable_scope('resnet', reuse=tf.AUTO_REUSE):\n",
    "        eval_resnet = ResNet(resnet_hparams, fbanks, labels, 'eval')\n",
    "        eval_resnet.build_graph()\n",
    "\n",
    "    return train_resnet, eval_resnet\n",
    "\n",
    "# pretrain model path\n",
    "model_dir = 'vox12_resnet34/'\n",
    "\n",
    "graph = tf.Graph()\n",
    "with graph.as_default():\n",
    "    fbanks = tf.placeholder(dtype=tf.float32, shape=(None, None, 80), name='fbanks')\n",
    "    labels = tf.placeholder(dtype=tf.int32, shape=(None), name='labels')\n",
    "    _, resnet = create_model(fbanks, labels)\n",
    "    saver = tf.train.Saver()\n",
    "    \n",
    "config = tf.ConfigProto()\n",
    "config.gpu_options.allow_growth = True\n",
    "sess = tf.Session(graph=graph, config=config)\n",
    "\n",
    "checkpoint_state = tf.train.get_checkpoint_state(model_dir)\n",
    "checkpoint_path = checkpoint_state.model_checkpoint_path\n",
    "\n",
    "saver.restore(sess, checkpoint_path)"
   ]
  },
  {
   "cell_type": "markdown",
   "metadata": {},
   "source": [
    "## Obtain speaker embedding for dataset VCTK"
   ]
  },
  {
   "cell_type": "code",
   "execution_count": 16,
   "metadata": {},
   "outputs": [],
   "source": [
    "pairs = []\n",
    "save_dir = '../datasets/vctk/synthesizer/embeds/'\n",
    "mel_dir = '../datasets/vctk/synthesizer/mels/'\n",
    "os.makedirs(save_dir, exist_ok=True)\n",
    "with open('../datasets/vctk/synthesizer/all.txt') as f:\n",
    "    for line in f.readlines():\n",
    "        items = line.strip().split('|')\n",
    "        pairs.append((mel_dir + items[1], save_dir + items[2]))"
   ]
  },
  {
   "cell_type": "code",
   "execution_count": 19,
   "metadata": {},
   "outputs": [
    {
     "name": "stderr",
     "output_type": "stream",
     "text": [
      "100%|██████████| 30617/30617 [10:05<00:00, 50.52it/s]\n"
     ]
    }
   ],
   "source": [
    "for mel_file, embed_file in tqdm(pairs):\n",
    "    mels = np.load(mel_file)\n",
    "    embedding = sess.run(resnet.gv, feed_dict={fbanks: np.expand_dims(mels, axis=0)})\n",
    "    embedding = embedding.squeeze()\n",
    "    np.save(embed_file, embedding)"
   ]
  },
  {
   "cell_type": "code",
   "execution_count": null,
   "metadata": {},
   "outputs": [],
   "source": []
  }
 ],
 "metadata": {
  "kernelspec": {
   "display_name": "Python MultiSpeakerTTS",
   "language": "python",
   "name": "multispeakertts"
  },
  "language_info": {
   "codemirror_mode": {
    "name": "ipython",
    "version": 3
   },
   "file_extension": ".py",
   "mimetype": "text/x-python",
   "name": "python",
   "nbconvert_exporter": "python",
   "pygments_lexer": "ipython3",
   "version": "3.6.2"
  }
 },
 "nbformat": 4,
 "nbformat_minor": 2
}
